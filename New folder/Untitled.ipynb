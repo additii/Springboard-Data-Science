{
 "cells": [
  {
   "cell_type": "code",
   "execution_count": 4,
   "id": "2f96c8d0",
   "metadata": {},
   "outputs": [
    {
     "name": "stdout",
     "output_type": "stream",
     "text": [
      "Regression results saved to regression_results.xlsx\n"
     ]
    },
    {
     "name": "stderr",
     "output_type": "stream",
     "text": [
      "C:\\Users\\Aditi\\AppData\\Local\\Temp\\ipykernel_12936\\154514255.py:32: FutureWarning: The frame.append method is deprecated and will be removed from pandas in a future version. Use pandas.concat instead.\n",
      "  regression_results = regression_results.append({\n",
      "C:\\Users\\Aditi\\AppData\\Local\\Temp\\ipykernel_12936\\154514255.py:32: FutureWarning: The frame.append method is deprecated and will be removed from pandas in a future version. Use pandas.concat instead.\n",
      "  regression_results = regression_results.append({\n",
      "C:\\Users\\Aditi\\AppData\\Local\\Temp\\ipykernel_12936\\154514255.py:32: FutureWarning: The frame.append method is deprecated and will be removed from pandas in a future version. Use pandas.concat instead.\n",
      "  regression_results = regression_results.append({\n"
     ]
    }
   ],
   "source": [
    "import pandas as pd\n",
    "from sklearn.linear_model import LinearRegression\n",
    "from sklearn.metrics import mean_squared_error\n",
    "import numpy as np\n",
    "import openpyxl\n",
    "\n",
    "# Load the Excel file\n",
    "file_path = 'MENA - VTTC with PFGL Jan-Feb 2024.xlsx'\n",
    "df = pd.read_excel(file_path, engine='openpyxl')\n",
    "\n",
    "# Select relevant numeric columns\n",
    "numeric_cols = ['used_app', 'app_uses', 'used_app_po']\n",
    "\n",
    "# Create a DataFrame to store regression results\n",
    "regression_results = pd.DataFrame(columns=['Feature', 'Intercept', 'Coefficient', 'R-squared', 'RMSE'])\n",
    "\n",
    "# Apply linear regression to each numeric column against 'vttc'\n",
    "for feature in numeric_cols:\n",
    "    X = df[[feature]]\n",
    "    y = df['vttc']\n",
    "\n",
    "    # Create linear regression model\n",
    "    model = LinearRegression().fit(X, y)\n",
    "\n",
    "    # Predict 'vttc' values\n",
    "    y_pred = model.predict(X)\n",
    "\n",
    "    # Calculate RMSE\n",
    "    rmse = np.sqrt(mean_squared_error(y, y_pred))\n",
    "\n",
    "    # Store regression results\n",
    "    regression_results = regression_results.append({\n",
    "        'Feature': feature,\n",
    "        'Intercept': model.intercept_,\n",
    "        'Coefficient': model.coef_[0],\n",
    "        'R-squared': model.score(X, y),\n",
    "        'RMSE': rmse\n",
    "    }, ignore_index=True)\n",
    "\n",
    "# Save regression results to Excel file\n",
    "output_file_path = 'regression_results.xlsx'\n",
    "regression_results.to_excel(output_file_path, index=False, engine='openpyxl')\n",
    "\n",
    "print(f\"Regression results saved to {output_file_path}\")\n"
   ]
  },
  {
   "cell_type": "code",
   "execution_count": null,
   "id": "61e9193c",
   "metadata": {},
   "outputs": [],
   "source": []
  }
 ],
 "metadata": {
  "kernelspec": {
   "display_name": "Python 3 (ipykernel)",
   "language": "python",
   "name": "python3"
  },
  "language_info": {
   "codemirror_mode": {
    "name": "ipython",
    "version": 3
   },
   "file_extension": ".py",
   "mimetype": "text/x-python",
   "name": "python",
   "nbconvert_exporter": "python",
   "pygments_lexer": "ipython3",
   "version": "3.11.5"
  }
 },
 "nbformat": 4,
 "nbformat_minor": 5
}
