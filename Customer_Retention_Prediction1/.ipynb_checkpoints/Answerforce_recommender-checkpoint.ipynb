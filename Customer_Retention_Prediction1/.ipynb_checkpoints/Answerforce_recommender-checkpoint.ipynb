{
 "cells": [
  {
   "cell_type": "code",
   "execution_count": 6,
   "id": "76bf8233",
   "metadata": {},
   "outputs": [],
   "source": [
    "import pandas as pd\n",
    "import matplotlib.pyplot as plt\n",
    "from sklearn.model_selection import train_test_split\n",
    "from sklearn.ensemble import RandomForestClassifier\n",
    "from sklearn.metrics import classification_report, accuracy_score\n",
    "\n",
    "# Step 1: Data Exploration and Cleaning\n",
    "account_attributes = pd.read_excel('account_attributes.xlsx')\n",
    "account_usage = pd.read_excel('account_usage.xlsx')\n",
    "\n"
   ]
  },
  {
   "cell_type": "code",
   "execution_count": 7,
   "id": "be365830",
   "metadata": {},
   "outputs": [],
   "source": [
    "# Step 2: Trial Program Performance\n",
    "conversion_rate = account_attributes['Converted to paid customer'].mean()\n",
    "\n",
    "weekly_activation_trend = account_usage.groupby('Date time').size()\n",
    "\n",
    "\n"
   ]
  },
  {
   "cell_type": "code",
   "execution_count": 8,
   "id": "208ebe87",
   "metadata": {},
   "outputs": [
    {
     "name": "stdout",
     "output_type": "stream",
     "text": [
      "Factors associated with successful conversions:\n",
      "Empty DataFrame\n",
      "Columns: []\n",
      "Index: [0, 1]\n"
     ]
    },
    {
     "name": "stderr",
     "output_type": "stream",
     "text": [
      "C:\\Users\\Aditi\\AppData\\Local\\Temp\\ipykernel_21128\\2786348351.py:6: FutureWarning: The default value of numeric_only in DataFrameGroupBy.mean is deprecated. In a future version, numeric_only will default to False. Either specify numeric_only or select only columns which should be valid for the function.\n",
      "  conversion_factors = account_attributes.groupby('Converted to paid customer').mean()\n"
     ]
    }
   ],
   "source": [
    "# Step 3: Improvement Suggestions\n",
    "# Analyze factors associated with successful conversions and gather qualitative feedback\n",
    "\n",
    "\n",
    "# Identify factors associated with successful conversions\n",
    "conversion_factors = account_attributes.groupby('Converted to paid customer').mean()\n",
    "\n",
    "# Display conversion factors\n",
    "print(\"Factors associated with successful conversions:\")\n",
    "print(conversion_factors)"
   ]
  },
  {
   "cell_type": "code",
   "execution_count": 10,
   "id": "38398abf",
   "metadata": {},
   "outputs": [],
   "source": [
    "# Step 4: Customer Segmentation\n",
    "enterprise_customers = account_attributes[account_attributes['Acct type'] == 'ENT']\n",
    "smb_customers = account_attributes[account_attributes['Acct type'] == 'SMB']\n",
    "\n"
   ]
  },
  {
   "cell_type": "code",
   "execution_count": null,
   "id": "15b71c25",
   "metadata": {},
   "outputs": [],
   "source": [
    "# Step 5: Predictive Modeling for Customer Conversion\n",
    "from sklearn.preprocessing import LabelEncoder\n",
    "import numpy as np\n",
    "# Encode categorical variables\n",
    "le = LabelEncoder()\n",
    "account_attributes['Activate chat bot'] = le.fit_transform(account_attributes['Activate chat bot'])\n",
    "\n",
    "features = account_attributes[['Activate chat bot', 'Acct type']]\n",
    "X = pd.get_dummies(features, columns=['Acct type'], drop_first=True)\n",
    "y = account_attributes['Converted to paid customer']\n",
    "\n",
    "X_train, X_test, y_train, y_test = train_test_split(X, y, test_size=0.2, random_state=42)\n",
    "\n",
    "model = RandomForestClassifier()\n",
    "model.fit(X_train, y_train)\n",
    "\n",
    "num_simulations = 1000\n",
    "accuracy_scores = []\n",
    "\n",
    "for i in range(num_simulations):\n",
    "    # Split the dataset into training and testing sets for each simulation\n",
    "    X_train, X_test, y_train, y_test = train_test_split(X, y, test_size=0.2, random_state=i)\n",
    "\n",
    "    # Create and train the model for each simulation\n",
    "    model = RandomForestClassifier(random_state=i)\n",
    "    model.fit(X_train, y_train)\n",
    "\n",
    "    # Make predictions on the test set\n",
    "    y_pred = model.predict(X_test)\n",
    "\n",
    "    # Evaluate the model's performance and store the accuracy score\n",
    "    accuracy = accuracy_score(y_test, y_pred)\n",
    "    accuracy_scores.append(accuracy)\n",
    "\n",
    "# Display the average accuracy score over the simulations\n",
    "average_accuracy = np.mean(accuracy_scores)\n",
    "print(f\"\\nAverage Accuracy over {num_simulations} Simulations: {average_accuracy:.4f}\")"
   ]
  },
  {
   "cell_type": "code",
   "execution_count": null,
   "id": "d700c874",
   "metadata": {},
   "outputs": [],
   "source": [
    "# Step 6: Recommendations\n",
    "# Provide actionable recommendations based on the analysis\n",
    "\n",
    "\n",
    "# Example recommendation: Improve the chat bot activation process\n",
    "print(\"\\nRecommendation:\")\n",
    "print(\"Improve the chat bot activation process to increase engagement and conversion rates.\")"
   ]
  },
  {
   "cell_type": "code",
   "execution_count": null,
   "id": "25ec29d7",
   "metadata": {},
   "outputs": [],
   "source": [
    "# Step 7: Visualization\n",
    "plt.figure(figsize=(10, 5))\n",
    "plt.plot(weekly_activation_trend.index, weekly_activation_trend.values, marker='o')\n",
    "plt.title('Weekly Activation Trend')\n",
    "plt.xlabel('Date')\n",
    "plt.ylabel('Number of Activations')\n",
    "plt.show()\n",
    "\n"
   ]
  },
  {
   "cell_type": "code",
   "execution_count": null,
   "id": "88cee9f4",
   "metadata": {},
   "outputs": [],
   "source": [
    "# Step 8: Documentation\n",
    "# Document the analysis process, findings, and recommendations"
   ]
  }
 ],
 "metadata": {
  "kernelspec": {
   "display_name": "Python 3 (ipykernel)",
   "language": "python",
   "name": "python3"
  },
  "language_info": {
   "codemirror_mode": {
    "name": "ipython",
    "version": 3
   },
   "file_extension": ".py",
   "mimetype": "text/x-python",
   "name": "python",
   "nbconvert_exporter": "python",
   "pygments_lexer": "ipython3",
   "version": "3.11.4"
  }
 },
 "nbformat": 4,
 "nbformat_minor": 5
}
